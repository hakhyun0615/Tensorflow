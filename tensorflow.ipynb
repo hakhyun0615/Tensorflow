{
 "cells": [
  {
   "attachments": {},
   "cell_type": "markdown",
   "metadata": {},
   "source": [
    "data set(학습이 필요없는 immutable object) -> model(w,b 같은 trainable/learnable parameter)(학습이 필요한 mutable object) -> loss 계산 -> optimizer -> model"
   ]
  },
  {
   "attachments": {},
   "cell_type": "markdown",
   "metadata": {},
   "source": [
    "1. tf.Variable(mutable tensor) # ResourceVariable\n",
    "2. tf.constant/tf.convert_to_tensor(immutable tensor) # EagerTensor"
   ]
  },
  {
   "cell_type": "code",
   "execution_count": 18,
   "metadata": {},
   "outputs": [
    {
     "name": "stdout",
     "output_type": "stream",
     "text": [
      "<class 'tensorflow.python.ops.resource_variable_ops.ResourceVariable'>\n",
      "<class 'tensorflow.python.framework.ops.EagerTensor'>\n"
     ]
    }
   ],
   "source": [
    "import tensorflow as tf\n",
    "\n",
    "t1 = tf.Variable([1,2,3])\n",
    "t2 = tf.constant([1,2,3])\n",
    "\n",
    "print(type(t1))\n",
    "print(type(t2))"
   ]
  },
  {
   "attachments": {},
   "cell_type": "markdown",
   "metadata": {},
   "source": [
    "python list / numpy array -> tensorflow의 tensor(tf.Variable / tf.constant)"
   ]
  },
  {
   "cell_type": "code",
   "execution_count": 19,
   "metadata": {},
   "outputs": [
    {
     "name": "stdout",
     "output_type": "stream",
     "text": [
      "<class 'tensorflow.python.framework.ops.EagerTensor'>\n",
      "<class 'tensorflow.python.framework.ops.EagerTensor'>\n",
      "<class 'tensorflow.python.ops.resource_variable_ops.ResourceVariable'>\n",
      "<class 'tensorflow.python.ops.resource_variable_ops.ResourceVariable'>\n"
     ]
    }
   ],
   "source": [
    "import numpy as np\n",
    "\n",
    "test_list = [1,2,3]\n",
    "test_np = np.array([1,2,3])\n",
    "\n",
    "t1 = tf.constant(test_list)\n",
    "t2 = tf.constant(test_np)\n",
    "t3 = tf.Variable(test_list)\n",
    "t4 = tf.Variable(test_np)\n",
    "\n",
    "print(type(t1))\n",
    "print(type(t2))\n",
    "print(type(t3))\n",
    "print(type(t4))"
   ]
  },
  {
   "attachments": {},
   "cell_type": "markdown",
   "metadata": {},
   "source": [
    "tf.constant + tf.Variable = tf.constant  \n",
    "tf.Variable + tf.Variable = tf.constant"
   ]
  },
  {
   "cell_type": "code",
   "execution_count": 20,
   "metadata": {},
   "outputs": [
    {
     "name": "stdout",
     "output_type": "stream",
     "text": [
      "<class 'tensorflow.python.framework.ops.EagerTensor'>\n",
      "<class 'tensorflow.python.framework.ops.EagerTensor'>\n"
     ]
    }
   ],
   "source": [
    "test_list1 = [1,2,3]\n",
    "test_list2 = [4,5,6]\n",
    "\n",
    "t1 = tf.constant(test_list1)\n",
    "t2 = tf.Variable(test_list1)\n",
    "t3 = tf.Variable(test_list2)\n",
    "\n",
    "t4 = t1 + t2\n",
    "t5 = t2 + t3\n",
    "\n",
    "print(type(t4))\n",
    "print(type(t5))"
   ]
  },
  {
   "attachments": {},
   "cell_type": "markdown",
   "metadata": {},
   "source": [
    "tensor를 만드는 과정은 numpy와 닮았다"
   ]
  },
  {
   "cell_type": "code",
   "execution_count": 21,
   "metadata": {},
   "outputs": [],
   "source": [
    "# 행,열 1로 채우기\n",
    "t1 = tf.ones(shape=(100,))\n",
    "t2 = tf.ones(shape=(100,3)) \n",
    "t3 = tf.ones(shape=(128,128,128)) "
   ]
  },
  {
   "cell_type": "code",
   "execution_count": 22,
   "metadata": {},
   "outputs": [],
   "source": [
    "# 행,열 0로 채우기\n",
    "t1 = tf.zeros(shape=(128,128,128)) "
   ]
  },
  {
   "cell_type": "code",
   "execution_count": 23,
   "metadata": {},
   "outputs": [],
   "source": [
    "# 행,열 3.14로 채우기\n",
    "t1 = 3.14 * tf.ones(shape=(128,128,128)) # 스칼라 X 벡터(tensor)"
   ]
  },
  {
   "cell_type": "code",
   "execution_count": 24,
   "metadata": {},
   "outputs": [],
   "source": [
    "# 똑같은 shape을 가진 tensor 만들기(둘 중 어떤걸 사용해도 상관없음)\n",
    "test_list = [[1,2,3],[4,5,6]]\n",
    "t1 = tf.Variable(test_list)\n",
    "\n",
    "t2 = tf.ones(shape=t1.shape)\n",
    "t2 = tf.ones_like(t1)"
   ]
  },
  {
   "cell_type": "code",
   "execution_count": 25,
   "metadata": {},
   "outputs": [],
   "source": [
    "# 행,열 random하게 채우기\n",
    "tf.random.set_seed(0) # random seed 사용시\n",
    "t1 = tf.random.normal(shape=(10,10))\n",
    "t2 = tf.random.normal(mean=3, stddev=1, shape=(1000,)) # 평균 3, 표준편차 1\n",
    "t3 = tf.random.uniform(shape=(10000,), minval=-10, maxval=10)\n",
    "t4 = tf.random.poisson(shape=(1000,), lam=5)"
   ]
  },
  {
   "cell_type": "code",
   "execution_count": 26,
   "metadata": {},
   "outputs": [
    {
     "data": {
      "image/png": "[encoded data removed]",
      "text/plain": [
       "<Figure size 1500x1500 with 1 Axes>"
      ]
     },
     "metadata": {},
     "output_type": "display_data"
    }
   ],
   "source": [
    "# 그려보기\n",
    "import matplotlib.pyplot as plt\n",
    "\n",
    "fig, ax = plt.subplots(figsize=(15,15))\n",
    "ax.hist(t2.numpy(), bins=30)\n",
    "ax.tick_params(labelsize=20)"
   ]
  },
  {
   "cell_type": "code",
   "execution_count": 27,
   "metadata": {},
   "outputs": [
    {
     "name": "stdout",
     "output_type": "stream",
     "text": [
      "t1.shape:  (10, 10)\n",
      "t1.dtype:  <dtype: 'float32'>\n"
     ]
    }
   ],
   "source": [
    "# 정보 출력하기\n",
    "print(\"t1.shape: \", t1.shape)\n",
    "print(\"t1.dtype: \", t1.dtype) # float 32이어야 에러가 안 생긴다"
   ]
  },
  {
   "cell_type": "code",
   "execution_count": 28,
   "metadata": {},
   "outputs": [],
   "source": [
    "# 데이터 타입 정해주기\n",
    "test_np = np.random.randint(-10, 10, size=(100,))\n",
    "t1 = tf.constant(test_np, dtype=tf.float32)"
   ]
  },
  {
   "cell_type": "code",
   "execution_count": 29,
   "metadata": {},
   "outputs": [
    {
     "name": "stdout",
     "output_type": "stream",
     "text": [
      "[[ 8 12 -5 -1]\n",
      " [-2 -6  2 -3]\n",
      " [ 6  6  2  7]]\n"
     ]
    }
   ],
   "source": [
    "# 데이터 타입 바꿔주기\n",
    "t1 = tf.random.normal(shape=(3,4), mean=0, stddev=5)\n",
    "t1 = tf.cast(t1, dtype=tf.int16)\n",
    "\n",
    "print(t1.numpy()) # numpy로 바꿔주기"
   ]
  },
  {
   "attachments": {},
   "cell_type": "markdown",
   "metadata": {},
   "source": [
    "tensor 연산"
   ]
  },
  {
   "cell_type": "code",
   "execution_count": 30,
   "metadata": {},
   "outputs": [
    {
     "name": "stdout",
     "output_type": "stream",
     "text": [
      "[1, 2, 3, 10, 20, 30]\n",
      "tf.Tensor([11 22 33], shape=(3,), dtype=int32)\n"
     ]
    }
   ],
   "source": [
    "python_list1 = [1,2,3]\n",
    "python_list2 = [10,20,30]\n",
    "print(python_list1 + python_list2)\n",
    "\n",
    "t1 = tf.constant([1,2,3])\n",
    "t2 = tf.constant([10,20,30])\n",
    "print(t1 + t2) # element wise 연산"
   ]
  },
  {
   "cell_type": "code",
   "execution_count": 31,
   "metadata": {},
   "outputs": [
    {
     "name": "stdout",
     "output_type": "stream",
     "text": [
      "[[-5 -3 -1  9]\n",
      " [-2 -2 -3  1]\n",
      " [ 3  7 -5  1]] \n",
      "\n",
      "[[11  4  0  1]] \n",
      "\n",
      "[[ 6  1 -1 10]\n",
      " [ 9  2 -3  2]\n",
      " [14 11 -5  2]] \n",
      "\n",
      "[[-2]\n",
      " [ 2]\n",
      " [ 0]] \n",
      "\n",
      "[[ 4  3 -1 -3]] \n",
      "\n",
      "[[ 2  1 -3 -5]\n",
      " [ 6  5  1 -1]\n",
      " [ 4  3 -1 -3]] \n",
      "\n"
     ]
    }
   ],
   "source": [
    "#shape이 틀릴 때 broadcasting(shape 맞춰주기)\n",
    "t1 = tf.random.normal(shape=(3,4), mean=0, stddev=5)\n",
    "t2 = tf.random.normal(shape=(1,4), mean=0, stddev=5)\n",
    "\n",
    "t1 = tf.cast(t1, dtype=tf.int16)\n",
    "t2 = tf.cast(t2, dtype=tf.int16)\n",
    "\n",
    "t3 = t1 + t2 # t2를 3x4로 expansion 해주고 더하기\n",
    "\n",
    "print(t1.numpy(), '\\n')\n",
    "print(t2.numpy(), '\\n')\n",
    "print(t3.numpy(), '\\n')\n",
    "\n",
    "\n",
    "t1 = tf.random.normal(shape=(3,1), mean=0, stddev=5)\n",
    "t2 = tf.random.normal(shape=(1,4), mean=0, stddev=5)\n",
    "\n",
    "t1 = tf.cast(t1, dtype=tf.int16)\n",
    "t2 = tf.cast(t2, dtype=tf.int16)\n",
    "\n",
    "t3 = t1 + t2 # t1,t2를 3x4로 expansion 해주고 더하기\n",
    "\n",
    "print(t1.numpy(), '\\n')\n",
    "print(t2.numpy(), '\\n')\n",
    "print(t3.numpy(), '\\n')"
   ]
  },
  {
   "cell_type": "code",
   "execution_count": 32,
   "metadata": {},
   "outputs": [
    {
     "name": "stdout",
     "output_type": "stream",
     "text": [
      "[[ 6  2  4 12]\n",
      " [-3 -3  0 -2]\n",
      " [ 2  2  0 -4]]\n",
      "16\n",
      "[5 1 4 6]\n",
      "(4,)\n",
      "[24 -8  0]\n",
      "(3,)\n"
     ]
    }
   ],
   "source": [
    "# reduce family\n",
    "t1 = tf.random.normal(shape=(3,4), mean=0, stddev=5)\n",
    "t1 = tf.cast(t1, dtype=tf.int16)\n",
    "print(t1.numpy())\n",
    "\n",
    "t2 = tf.reduce_sum(t1) # 모든 element 합\n",
    "print(t2.numpy())\n",
    "t2 = tf.reduce_sum(t1, axis=0) # shpae=(3(axis=0),4(axis=1))에서 axis=0 축(데이터) 없애면서 더하기(각 특성의 모든 합)\n",
    "print(t2.numpy())\n",
    "print(t2.shape)\n",
    "t2 = tf.reduce_sum(t1, axis=1) # shpae=(3(axis=0),4(axis=1))에서 axis=1 축(특징) 없애면서 더하기(각 데이터의 모든 합)\n",
    "print(t2.numpy())\n",
    "print(t2.shape)"
   ]
  },
  {
   "attachments": {},
   "cell_type": "markdown",
   "metadata": {},
   "source": [
    "tf.GradientTape(): 순전파(forward propagation, model -> loss)를 기록해놓은 tape로 이후 역전파(back propagation)에 도움을 준다"
   ]
  },
  {
   "cell_type": "code",
   "execution_count": 33,
   "metadata": {},
   "outputs": [
    {
     "name": "stdout",
     "output_type": "stream",
     "text": [
      "dt1:  tf.Tensor([10. 20. 30.], shape=(3,), dtype=float32)\n",
      "dt2:  tf.Tensor([2. 3. 4.], shape=(3,), dtype=float32)\n",
      "dt3:  tf.Tensor([1. 1. 1.], shape=(3,), dtype=float32)\n"
     ]
    }
   ],
   "source": [
    "t1 = tf.Variable([1,2,3], dtype=tf.float32)\n",
    "t2 = tf.Variable([10,20,30], dtype=tf.float32)\n",
    "\n",
    "with tf.GradientTape() as tape:\n",
    "    t3 = t1 * t2\n",
    "    t4 = t3 + t2\n",
    "\n",
    "gradients = tape.gradient(t4, [t1, t2, t3])\n",
    "\n",
    "print('dt1: ', gradients[0])\n",
    "print('dt2: ', gradients[1])\n",
    "print('dt3: ', gradients[2])"
   ]
  },
  {
   "cell_type": "code",
   "execution_count": 34,
   "metadata": {},
   "outputs": [
    {
     "name": "stdout",
     "output_type": "stream",
     "text": [
      "dt1:  None\n",
      "dt2:  tf.Tensor([1. 2. 3.], shape=(3,), dtype=float32)\n"
     ]
    }
   ],
   "source": [
    "t1 = tf.constant([1,2,3], dtype=tf.float32)\n",
    "t2 = tf.Variable([10,20,30], dtype=tf.float32)\n",
    "\n",
    "with tf.GradientTape() as tape:\n",
    "    t3 = t1 * t2\n",
    "\n",
    "gradients = tape.gradient(t3, [t1, t2])\n",
    "\n",
    "print('dt1: ', gradients[0]) # constant의 경우 역전파(update)가 일어날 필요가 없음\n",
    "print('dt2: ', gradients[1])"
   ]
  },
  {
   "cell_type": "code",
   "execution_count": 41,
   "metadata": {},
   "outputs": [
    {
     "data": {
      "image/png": "[encoded data removed]",
      "text/plain": [
       "<Figure size 2000x1000 with 1 Axes>"
      ]
     },
     "metadata": {},
     "output_type": "display_data"
    }
   ],
   "source": [
    "# 간단한 선형회귀 딥 러닝\n",
    "\n",
    "# 데이터\n",
    "x_data = tf.random.normal(shape=(1000,), dtype=tf.float32)\n",
    "y_data = 3*x_data + 1\n",
    "\n",
    "# 가중치와 절편\n",
    "w = tf.Variable(-1.)\n",
    "b = tf.Variable(-1.)\n",
    "\n",
    "EPOCHS = 10 # learning rate 10번 돌리기\n",
    "LR = 0.01\n",
    "\n",
    "w_trace, b_trace = [], []\n",
    "\n",
    "for epoch in range(EPOCHS):\n",
    "    for x,y in zip(x_data,y_data):\n",
    "        with tf.GradientTape() as tape: # forward propagation\n",
    "            prediction = w*x + b # model\n",
    "            loss = (prediction-y)**2 # loss\n",
    "        gradients = tape.gradient(loss, [w,b])\n",
    "\n",
    "        w_trace.append(w.numpy())\n",
    "        b_trace.append(b.numpy())\n",
    "        \n",
    "        w = tf.Variable(w - LR*gradients[0])\n",
    "        b = tf.Variable(b - LR*gradients[1])\n",
    "\n",
    "fig, ax = plt.subplots(figsize=(20,10))\n",
    "ax.plot(w_trace, label='weight')\n",
    "ax.plot(b_trace, label='bias')\n",
    "ax.tick_params(labelsize=20)\n",
    "ax.legend(fontsize=30)\n",
    "ax.grid()"
   ]
  },
  {
   "cell_type": "code",
   "execution_count": null,
   "metadata": {},
   "outputs": [],
   "source": []
  }
 ],
 "metadata": {
  "kernelspec": {
   "display_name": "base",
   "language": "python",
   "name": "python3"
  },
  "language_info": {
   "codemirror_mode": {
    "name": "ipython",
    "version": 3
   },
   "file_extension": ".py",
   "mimetype": "text/x-python",
   "name": "python",
   "nbconvert_exporter": "python",
   "pygments_lexer": "ipython3",
   "version": "3.9.16"
  },
  "orig_nbformat": 4
 },
 "nbformat": 4,
 "nbformat_minor": 2
}
